{
 "cells": [
  {
   "cell_type": "markdown",
   "metadata": {},
   "source": [
    "# Fitted value iteration\n",
    "\n",
    "Fitted value iteration alleviates the problem of having to enumerate all states to update the value function.\n",
    "\n",
    "It still requires a model - we'll build an algorithm to overcome this in the next notebook.\n",
    "This model is used in simulating the possible transitions from a state to estimate it's value. This estimate is bootstrapped using our current value of each successor state.\n",
    "\n",
    "Sampling transitions \n"
   ]
  },
  {
   "cell_type": "markdown",
   "metadata": {},
   "source": [
    "How should we pass our state to our value function?\n",
    "\n",
    "We know that the state of any discrete space can be represented as an integer. But is this a good way to feed it to our model?\n",
    "\n",
    "The value of a hole will be much lower than the value of a goal state. \n",
    "If there is a hole next to our goal, then the value function output has to change a lot between those two integer state values.\n",
    "Depending on which integers represent what states, these states may the integers next to each other.\n",
    "\n",
    "# diagram to show val func changing by a lot between successive int states\n",
    "\n",
    "Another way to represent our state is "
   ]
  },
  {
   "cell_type": "markdown",
   "metadata": {},
   "source": [
    "If we start with a randomly initialised value function and act greedily with respect to it, without explicitly visiting all states, then we can run into a serious problem. This problem is that our agent may never explore certain states. It will consider an unvisited state when looking ahead with the model, but the currently incorrect value function may indicate that moving into that state will produce a lower return. \n",
    "If visiting an unvisited state is not possible by taking the action which maximise the expected return (acting greedily with respect to the value function) from any other state (which must also be visited), then the state's value will never be updated.\n",
    "\n",
    "So we need to encourage our agent to explore."
   ]
  }
 ],
 "metadata": {
  "kernelspec": {
   "display_name": "Python 3",
   "language": "python",
   "name": "python3"
  },
  "language_info": {
   "codemirror_mode": {
    "name": "ipython",
    "version": 3
   },
   "file_extension": ".py",
   "mimetype": "text/x-python",
   "name": "python",
   "nbconvert_exporter": "python",
   "pygments_lexer": "ipython3",
   "version": "3.6.9"
  }
 },
 "nbformat": 4,
 "nbformat_minor": 2
}
