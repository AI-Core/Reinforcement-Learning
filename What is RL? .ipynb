{
 "cells": [
  {
   "cell_type": "markdown",
   "metadata": {},
   "source": [
    "# Intro to Reinforcement Learning\n",
    "\n",
    "### Prerequisites\n",
    "- [Basic Python](https://github.com/AI-core/001-Python)\n",
    "- [Optimisation]()\n",
    "- [Logistic regression]() (for understanding softmax function)\n",
    "\n",
    "![](images/agent-env-loop.png)\n",
    "\n",
    "## What is reinforcement learning?\n",
    "\n",
    "Reinforcement learning (RL) is way to train machines to perform tasks by having them interact with their *environment* and rewarding them when they do well.\n",
    "\n",
    "We affect our environment by taking actions. Then we observe the new state of the environment and may recieve some reward (or punishment) from the environment for taking that action in that state.\n",
    "\n",
    "RL is inspired by how humans and other animals learn from interacting with their environment. For example, dogs can be trained to perform tricks by giving them rewards (treats) when they perform them correctly. They understand when they are in a state where you might offer them a treat (e.g. you just said \"sit\"), and that the action that will most likely make you give them the treat is to perform the action, and sit. \n",
    "\n",
    "Video examples of RL: \n",
    "[Helicopter]()\n",
    "[Robotics]()\n",
    "[Trade stock]()\n",
    "\n",
    "Difference between RL and other ML paradigms\n",
    "Unlike supervised learning or unsupervised learning, all reinforcement learning setups involve:\n",
    "- an agent with explicit goals\n",
    "- \n",
    "The main difference between RL and other types of machine learning (supervised/unsupervised) is that we have an **agent** that can **interact** with its environment and influence it, rather than just map from input to output.\n",
    "\n",
    "In reinforcement learning, we don't explicitly tell the agent when it does something wrong or right. It just is informed by a reward at that moment, and this is not necessarily indicative of whether it will do well at the task in the long run (e.g. robot receives negative reward because its battery power decreases, but it may still do a great job of cleaning the house). Contrast this to the case of supervised learning, where we have a label for every input and upon every prediction output from the model we let it know whether that was the right or wrong .\n",
    "\n",
    "As we will see when we cover deep RL, other machine learning methods can be used as components of our RL agents (e.g. using a computer vision model trained with labels (supervised)))\n",
    "\n",
    "\n",
    "### Why reinforcement learning?\n",
    "\n",
    "This is how we, as humans, learn to do almost everything we know: \n",
    "\n",
    "Reinforcement learning is the mathematical formulation for how this learning occurs. It has links to neuroscience and cognition, and these fields of research have mutually benefitted from research in each direction.\n",
    "\n",
    "\n"
   ]
  }
 ],
 "metadata": {
  "kernelspec": {
   "display_name": "Python 3",
   "language": "python",
   "name": "python3"
  },
  "language_info": {
   "codemirror_mode": {
    "name": "ipython",
    "version": 3
   },
   "file_extension": ".py",
   "mimetype": "text/x-python",
   "name": "python",
   "nbconvert_exporter": "python",
   "pygments_lexer": "ipython3",
   "version": "3.6.8"
  }
 },
 "nbformat": 4,
 "nbformat_minor": 2
}
